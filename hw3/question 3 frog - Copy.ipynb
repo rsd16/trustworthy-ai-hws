{
 "cells": [
  {
   "cell_type": "markdown",
   "id": "88f8d132",
   "metadata": {},
   "source": [
    "# our imports"
   ]
  },
  {
   "cell_type": "code",
   "execution_count": 1,
   "id": "b5b10b60",
   "metadata": {},
   "outputs": [],
   "source": [
    "import torch\n",
    "import torch.nn as nn\n",
    "import torch.nn.functional as F\n",
    "import torchvision\n",
    "import pandas as pd\n",
    "import numpy as np\n",
    "import matplotlib.pyplot as plt\n",
    "import random\n",
    "from torchvision import models, transforms\n",
    "from sklearn.model_selection import train_test_split\n",
    "from torch.utils.data import TensorDataset, DataLoader\n",
    "import torch.optim as optim\n",
    "import pickle\n",
    "from tqdm import tqdm"
   ]
  },
  {
   "cell_type": "markdown",
   "id": "4f76b6ed",
   "metadata": {},
   "source": [
    "# transforms for the images"
   ]
  },
  {
   "cell_type": "code",
   "execution_count": 2,
   "id": "ac3a0ffc",
   "metadata": {},
   "outputs": [],
   "source": [
    "# the transformations we will implement on our dataset at the beginning of loading them:\n",
    "\n",
    "transform_train = transforms.Compose([\n",
    "    transforms.RandomCrop(32, padding=4),\n",
    "    transforms.RandomHorizontalFlip(), # flips the image w.r.t horizontal axis\n",
    "    #transforms.RandomRotation(10), # rotates the image to a specified angel\n",
    "    #transforms.RandomAutocontrast(),\n",
    "    #transforms.RandomAffine(0, shear=10, scale=(0.8, 1.2)), # performs actions like zooms, change shear angles\n",
    "    #transforms.RandomPerspective(),\n",
    "    #transforms.ColorJitter(brightness=0.2, contrast=0.2, saturation=0.2), # set the color params\n",
    "    transforms.ToTensor(),\n",
    "    transforms.Normalize((0.4914, 0.4822, 0.4465), (0.247, 0.243, 0.261))\n",
    "])\n",
    "\n",
    "transforms_test = transforms.Compose([\n",
    "    transforms.ToTensor(),\n",
    "    transforms.Normalize((0.4914, 0.4822, 0.4465), (0.247, 0.243, 0.261))\n",
    "])\n",
    "\n",
    "# the device on which our codes will run:\n",
    "device = torch.device('cuda' if torch.cuda.is_available() else 'cpu')"
   ]
  },
  {
   "cell_type": "markdown",
   "id": "336a8e39",
   "metadata": {},
   "source": [
    "# downloading the dataset"
   ]
  },
  {
   "cell_type": "code",
   "execution_count": 3,
   "id": "509f5805",
   "metadata": {},
   "outputs": [
    {
     "name": "stdout",
     "output_type": "stream",
     "text": [
      "Downloading https://www.cs.toronto.edu/~kriz/cifar-10-python.tar.gz to data/cifar-10-python.tar.gz\n"
     ]
    },
    {
     "name": "stderr",
     "output_type": "stream",
     "text": [
      "100%|█████████████████████████████████████████████████████████████████████████████████████████| 170498071/170498071 [01:47<00:00, 1580685.36it/s]\n"
     ]
    },
    {
     "name": "stdout",
     "output_type": "stream",
     "text": [
      "Extracting data/cifar-10-python.tar.gz to data/\n",
      "Files already downloaded and verified\n"
     ]
    }
   ],
   "source": [
    "# we produce our original dataset. we don't use dataloader, because we like to be able to...\n",
    "# ...modify the data in any way we please.\n",
    "\n",
    "# download CIFAR10 dataset:\n",
    "\n",
    "train_set = torchvision.datasets.CIFAR10(root='data/', train=True, download=True, transform=transform_train)\n",
    "test_set = torchvision.datasets.CIFAR10(root='data/', train=False, download=True, transform=transforms_test)"
   ]
  },
  {
   "cell_type": "markdown",
   "id": "3e876777",
   "metadata": {},
   "source": [
    "# extracting images/data from set object"
   ]
  },
  {
   "cell_type": "code",
   "execution_count": 4,
   "id": "ec5adc8b",
   "metadata": {},
   "outputs": [
    {
     "name": "stdout",
     "output_type": "stream",
     "text": [
      "x_train.shape = (50000, 3, 32, 32)\n",
      "y_train.shape = (50000,)\n",
      "x_test.shape = (10000, 3, 32, 32)\n",
      "y_test.shape = (10000,)\n"
     ]
    }
   ],
   "source": [
    "# save all datapoints in numpy arrays for later uses:\n",
    "\n",
    "x_train = np.array([np.array(datapoint[0]) for datapoint in train_set])\n",
    "y_train = np.array([np.array(datapoint[1]) for datapoint in train_set])\n",
    "\n",
    "x_test = np.array([np.array(datapoint[0]) for datapoint in test_set])\n",
    "y_test = np.array([np.array(datapoint[1]) for datapoint in test_set])\n",
    "\n",
    "print(f'{x_train.shape = }')\n",
    "print(f'{y_train.shape = }')\n",
    "\n",
    "print(f'{x_test.shape = }')\n",
    "print(f'{y_test.shape = }')"
   ]
  },
  {
   "cell_type": "markdown",
   "id": "44b0871c",
   "metadata": {},
   "source": [
    "# extracting the index of the frog in labels' file"
   ]
  },
  {
   "cell_type": "code",
   "execution_count": 5,
   "id": "31b9b265",
   "metadata": {},
   "outputs": [
    {
     "name": "stdout",
     "output_type": "stream",
     "text": [
      "{'num_cases_per_batch': 10000, 'label_names': ['airplane', 'automobile', 'bird', 'cat', 'deer', 'dog', 'frog', 'horse', 'ship', 'truck'], 'num_vis': 3072}\n"
     ]
    }
   ],
   "source": [
    "# cat: 3\n",
    "# frog: 6\n",
    "\n",
    "label_names_file = open('data/cifar-10-batches-py/batches.meta', 'rb')\n",
    "label_names = pickle.load(label_names_file)\n",
    "label_names_file.close()\n",
    "\n",
    "print(label_names)"
   ]
  },
  {
   "cell_type": "markdown",
   "id": "46b0316d",
   "metadata": {},
   "source": [
    "# indices of frog data"
   ]
  },
  {
   "cell_type": "code",
   "execution_count": 6,
   "id": "0fdb0637",
   "metadata": {},
   "outputs": [
    {
     "name": "stdout",
     "output_type": "stream",
     "text": [
      "(5000,)\n",
      "(1000,)\n"
     ]
    }
   ],
   "source": [
    "# get indices of frogs in train and test sets:\n",
    "\n",
    "indices_frogs_train = np.where(y_train == 6)[0]\n",
    "indices_frogs_test = np.where(y_test == 6)[0]\n",
    "\n",
    "print(indices_frogs_train.shape)\n",
    "print(indices_frogs_test.shape)"
   ]
  },
  {
   "cell_type": "markdown",
   "id": "e5b348b8",
   "metadata": {},
   "source": [
    "# separating frog data from the rest"
   ]
  },
  {
   "cell_type": "code",
   "execution_count": 7,
   "id": "d4a8631d",
   "metadata": {},
   "outputs": [
    {
     "name": "stdout",
     "output_type": "stream",
     "text": [
      "x_train_frog.shape = (5000, 3, 32, 32)\n",
      "y_train_frog.shape = (5000,)\n",
      "x_test_frog.shape = (1000, 3, 32, 32)\n",
      "y_test_frog.shape = (1000,)\n",
      "[6]\n"
     ]
    }
   ],
   "source": [
    "# separating frog data from the rest# seperate frogs from train and test sets:\n",
    "\n",
    "x_train_frog = x_train[indices_frogs_train, :, :, :]\n",
    "y_train_frog = y_train[indices_frogs_train]\n",
    "\n",
    "x_test_frog = x_test[indices_frogs_test, :, :, :]\n",
    "y_test_frog = y_test[indices_frogs_test]\n",
    "\n",
    "print(f'{x_train_frog.shape = }')\n",
    "print(f'{y_train_frog.shape = }')\n",
    "\n",
    "print(f'{x_test_frog.shape = }')\n",
    "print(f'{y_test_frog.shape = }')\n",
    "\n",
    "print(np.unique(y_train_frog))"
   ]
  },
  {
   "cell_type": "code",
   "execution_count": 8,
   "id": "26ebfbfc",
   "metadata": {
    "scrolled": true
   },
   "outputs": [
    {
     "name": "stdout",
     "output_type": "stream",
     "text": [
      "x_train_without_frog.shape = (45000, 3, 32, 32)\n",
      "y_train_without_frog.shape = (45000,)\n",
      "x_test_without_frog.shape = (9000, 3, 32, 32)\n",
      "y_test_without_frog.shape = (9000,)\n",
      "[0 1 2 3 4 5 7 8 9]\n"
     ]
    }
   ],
   "source": [
    "# training and test data without frogs:\n",
    "\n",
    "x_train_without_frog = np.delete(x_train, indices_frogs_train, axis=0)\n",
    "y_train_without_frog = np.delete(y_train, indices_frogs_train)\n",
    "\n",
    "x_test_without_frog = np.delete(x_test, indices_frogs_test, axis=0)\n",
    "y_test_without_frog = np.delete(y_test, indices_frogs_test)\n",
    "\n",
    "\n",
    "print(f'{x_train_without_frog.shape = }')\n",
    "print(f'{y_train_without_frog.shape = }')\n",
    "\n",
    "print(f'{x_test_without_frog.shape = }')\n",
    "print(f'{y_test_without_frog.shape = }')\n",
    "\n",
    "print(np.unique(y_train_without_frog))"
   ]
  },
  {
   "cell_type": "markdown",
   "id": "ca62c118",
   "metadata": {},
   "source": [
    "# fixing the order in labels so the CUDA DSA error won't be thrown at us"
   ]
  },
  {
   "cell_type": "code",
   "execution_count": 9,
   "id": "4d167f15",
   "metadata": {},
   "outputs": [
    {
     "name": "stdout",
     "output_type": "stream",
     "text": [
      "[0 1 2 3 4 5 6 7 8]\n",
      "[0 1 2 3 4 5 6 7 8]\n"
     ]
    }
   ],
   "source": [
    "# we assign class 6 (previously frog) to truck:\n",
    "\n",
    "indices = np.where(y_train_without_frog == 9)[0]\n",
    "y_train_without_frog[indices] = 6\n",
    "\n",
    "indices = np.where(y_test_without_frog == 9)[0]\n",
    "y_test_without_frog[indices] = 6\n",
    "\n",
    "print(np.unique(y_train_without_frog))\n",
    "\n",
    "print(np.unique(y_test_without_frog))"
   ]
  },
  {
   "cell_type": "markdown",
   "id": "61893c8e",
   "metadata": {},
   "source": [
    "# creating validation data"
   ]
  },
  {
   "cell_type": "code",
   "execution_count": 10,
   "id": "9cdfbe03",
   "metadata": {},
   "outputs": [
    {
     "name": "stdout",
     "output_type": "stream",
     "text": [
      "x_train_without_frog.shape = (40500, 3, 32, 32)\n",
      "y_train_without_frog.shape = (40500,)\n",
      "x_valid_without_frog.shape = (4500, 3, 32, 32)\n",
      "y_valid_without_frog.shape = (4500,)\n"
     ]
    }
   ],
   "source": [
    "# split the datapoints into train (10%) and test (90%):\n",
    "\n",
    "x_train_without_frog, x_valid_without_frog, y_train_without_frog, y_valid_without_frog = train_test_split(x_train_without_frog, y_train_without_frog, test_size=0.1, stratify=y_train_without_frog, shuffle=True)\n",
    "\n",
    "print(f'{x_train_without_frog.shape = }')\n",
    "print(f'{y_train_without_frog.shape = }')\n",
    "\n",
    "print(f'{x_valid_without_frog.shape = }')\n",
    "print(f'{y_valid_without_frog.shape = }')"
   ]
  },
  {
   "cell_type": "markdown",
   "id": "8da9d2ed",
   "metadata": {},
   "source": [
    "# creating dataloader for each phases of learning"
   ]
  },
  {
   "cell_type": "code",
   "execution_count": 11,
   "id": "93e9ce41",
   "metadata": {},
   "outputs": [],
   "source": [
    "# convert our numpy arrays to torch tensor and create dataset and data loader from them:\n",
    "\n",
    "x_train_without_frog = torch.from_numpy(x_train_without_frog)\n",
    "y_train_without_frog = torch.from_numpy(y_train_without_frog)\n",
    "\n",
    "x_valid_without_frog = torch.from_numpy(x_valid_without_frog)\n",
    "y_valid_without_frog = torch.from_numpy(y_valid_without_frog)\n",
    "\n",
    "x_test_without_frog = torch.from_numpy(x_test_without_frog)\n",
    "y_test_without_frog = torch.from_numpy(y_test_without_frog)\n",
    "\n",
    "# convert torch tensor to torch dataset and then torch data loader:\n",
    "\n",
    "train_set = TensorDataset(x_train_without_frog, y_train_without_frog)\n",
    "valid_set = TensorDataset(x_valid_without_frog, y_valid_without_frog)\n",
    "test_set = TensorDataset(x_test_without_frog, y_test_without_frog)\n",
    "\n",
    "train_loader = DataLoader(train_set, batch_size=128, shuffle=True)\n",
    "valid_loader = DataLoader(valid_set, batch_size=128, shuffle=False)\n",
    "test_loader = DataLoader(test_set, batch_size=128, shuffle=False)"
   ]
  },
  {
   "cell_type": "markdown",
   "id": "e1721e36",
   "metadata": {},
   "source": [
    "# creating our model, optimizer and learning rate scheduler objects"
   ]
  },
  {
   "cell_type": "code",
   "execution_count": 40,
   "id": "ab7ee5f7",
   "metadata": {},
   "outputs": [],
   "source": [
    "# the implementation of ResNet18 is taken from https://github.com/kuangliu/pytorch-cifar/blob/master/models/resnet.py\n",
    "\n",
    "class BasicBlock(nn.Module):\n",
    "    expansion = 1\n",
    "\n",
    "    def __init__(self, in_planes, planes, stride=1):\n",
    "        super(BasicBlock, self).__init__()\n",
    "        self.conv1 = nn.Conv2d(\n",
    "            in_planes, planes, kernel_size=3, stride=stride, padding=1, bias=False)\n",
    "        self.bn1 = nn.BatchNorm2d(planes)\n",
    "        self.conv2 = nn.Conv2d(planes, planes, kernel_size=3,\n",
    "                               stride=1, padding=1, bias=False)\n",
    "        self.bn2 = nn.BatchNorm2d(planes)\n",
    "\n",
    "        self.shortcut = nn.Sequential()\n",
    "        if stride != 1 or in_planes != self.expansion*planes:\n",
    "            self.shortcut = nn.Sequential(\n",
    "                nn.Conv2d(in_planes, self.expansion*planes,\n",
    "                          kernel_size=1, stride=stride, bias=False),\n",
    "                nn.BatchNorm2d(self.expansion*planes)\n",
    "            )\n",
    "\n",
    "    def forward(self, x):\n",
    "        out = F.relu(self.bn1(self.conv1(x)))\n",
    "        out = self.bn2(self.conv2(out))\n",
    "        out += self.shortcut(x)\n",
    "        out = F.relu(out)\n",
    "        return out\n",
    "\n",
    "\n",
    "class Bottleneck(nn.Module):\n",
    "    expansion = 4\n",
    "\n",
    "    def __init__(self, in_planes, planes, stride=1):\n",
    "        super(Bottleneck, self).__init__()\n",
    "        self.conv1 = nn.Conv2d(in_planes, planes, kernel_size=1, bias=False)\n",
    "        self.bn1 = nn.BatchNorm2d(planes)\n",
    "        self.conv2 = nn.Conv2d(planes, planes, kernel_size=3,\n",
    "                               stride=stride, padding=1, bias=False)\n",
    "        self.bn2 = nn.BatchNorm2d(planes)\n",
    "        self.conv3 = nn.Conv2d(planes, self.expansion *\n",
    "                               planes, kernel_size=1, bias=False)\n",
    "        self.bn3 = nn.BatchNorm2d(self.expansion*planes)\n",
    "\n",
    "        self.shortcut = nn.Sequential()\n",
    "        if stride != 1 or in_planes != self.expansion*planes:\n",
    "            self.shortcut = nn.Sequential(\n",
    "                nn.Conv2d(in_planes, self.expansion*planes,\n",
    "                          kernel_size=1, stride=stride, bias=False),\n",
    "                nn.BatchNorm2d(self.expansion*planes)\n",
    "            )\n",
    "\n",
    "    def forward(self, x):\n",
    "        out = F.relu(self.bn1(self.conv1(x)))\n",
    "        out = F.relu(self.bn2(self.conv2(out)))\n",
    "        out = self.bn3(self.conv3(out))\n",
    "        out += self.shortcut(x)\n",
    "        out = F.relu(out)\n",
    "        return out\n",
    "\n",
    "\n",
    "class ResNet(nn.Module):\n",
    "    def __init__(self, block, num_blocks, num_classes=9):\n",
    "        super(ResNet, self).__init__()\n",
    "        self.in_planes = 64\n",
    "\n",
    "        self.conv1 = nn.Conv2d(3, 64, kernel_size=3,\n",
    "                               stride=1, padding=1, bias=False)\n",
    "        self.bn1 = nn.BatchNorm2d(64)\n",
    "        self.layer1 = self._make_layer(block, 64, num_blocks[0], stride=1)\n",
    "        self.layer2 = self._make_layer(block, 128, num_blocks[1], stride=2)\n",
    "        self.layer3 = self._make_layer(block, 256, num_blocks[2], stride=2)\n",
    "        self.layer4 = self._make_layer(block, 512, num_blocks[3], stride=2)\n",
    "        self.linear = nn.Linear(512*block.expansion, num_classes)\n",
    "\n",
    "    def _make_layer(self, block, planes, num_blocks, stride):\n",
    "        strides = [stride] + [1]*(num_blocks-1)\n",
    "        layers = []\n",
    "        for stride in strides:\n",
    "            layers.append(block(self.in_planes, planes, stride))\n",
    "            self.in_planes = planes * block.expansion\n",
    "        return nn.Sequential(*layers)\n",
    "\n",
    "    def forward(self, x):\n",
    "        out = F.relu(self.bn1(self.conv1(x)))\n",
    "        out = self.layer1(out)\n",
    "        out = self.layer2(out)\n",
    "        out = self.layer3(out)\n",
    "        out = self.layer4(out)\n",
    "        out = F.avg_pool2d(out, 4)\n",
    "        out = out.view(out.size(0), -1)\n",
    "        out = self.linear(out)\n",
    "        return out\n",
    "\n",
    "    \n",
    "def ResNet18():\n",
    "    return ResNet(BasicBlock, [2, 2, 2, 2])"
   ]
  },
  {
   "cell_type": "code",
   "execution_count": 18,
   "id": "406bbe85",
   "metadata": {},
   "outputs": [],
   "source": [
    "#'''\n",
    "model = torchvision.models.resnet18(pretrained=True)\n",
    "\n",
    "model.fc = nn.Linear(512, 9)\n",
    "model = model.to(device)\n",
    "#''';"
   ]
  },
  {
   "cell_type": "code",
   "execution_count": 19,
   "id": "5cebc266",
   "metadata": {},
   "outputs": [],
   "source": [
    "#model = ResNet18()\n",
    "#model = model.to(device)\n",
    "\n",
    "optimizer = optim.Adam(params=model.parameters(), lr=0.01)\n",
    "#optimizer = optim.SGD(model.parameters(), lr=0.02, momentum=0.9, weight_decay=5e-4)\n",
    "\n",
    "criterion = nn.CrossEntropyLoss()\n",
    "\n",
    "lr_scheduler = optim.lr_scheduler.ExponentialLR(optimizer, gamma=0.999)\n",
    "#lr_scheduler = optim.lr_scheduler.StepLR(optimizer, step_size=15, gamma=0.1)\n",
    "#lr_scheduler = torch.optim.lr_scheduler.CosineAnnealingLR(optimizer, T_max=200)"
   ]
  },
  {
   "cell_type": "markdown",
   "id": "4ef548a9",
   "metadata": {},
   "source": [
    "# training and evaluation process"
   ]
  },
  {
   "cell_type": "code",
   "execution_count": 20,
   "id": "8f0acf1c",
   "metadata": {},
   "outputs": [
    {
     "name": "stdout",
     "output_type": "stream",
     "text": [
      "Epoch 1 of 200\n",
      "Training Loss: 2.179, Training Accuracy: 21.985\n",
      "Validation Loss: 1.869, Validation Accuracy: 30.222\n",
      "--------------------------------------------------\n",
      "Epoch 2 of 200\n",
      "Training Loss: 1.742, Training Accuracy: 33.474\n",
      "Validation Loss: 1.587, Validation Accuracy: 38.511\n",
      "--------------------------------------------------\n",
      "Epoch 3 of 200\n",
      "Training Loss: 1.533, Training Accuracy: 41.067\n",
      "Validation Loss: 1.461, Validation Accuracy: 45.133\n",
      "--------------------------------------------------\n",
      "Epoch 4 of 200\n",
      "Training Loss: 1.344, Training Accuracy: 49.573\n",
      "Validation Loss: 1.382, Validation Accuracy: 49.778\n",
      "--------------------------------------------------\n",
      "Epoch 5 of 200\n",
      "Training Loss: 1.196, Training Accuracy: 55.267\n",
      "Validation Loss: 1.173, Validation Accuracy: 57.000\n",
      "--------------------------------------------------\n",
      "Epoch 6 of 200\n",
      "Training Loss: 1.075, Training Accuracy: 60.240\n",
      "Validation Loss: 1.163, Validation Accuracy: 57.778\n",
      "--------------------------------------------------\n",
      "Epoch 7 of 200\n",
      "Training Loss: 0.967, Training Accuracy: 64.778\n",
      "Validation Loss: 1.078, Validation Accuracy: 61.333\n",
      "--------------------------------------------------\n",
      "Epoch 8 of 200\n",
      "Training Loss: 0.887, Training Accuracy: 67.802\n",
      "Validation Loss: 0.962, Validation Accuracy: 65.467\n",
      "--------------------------------------------------\n",
      "Epoch 9 of 200\n",
      "Training Loss: 0.806, Training Accuracy: 70.862\n",
      "Validation Loss: 0.959, Validation Accuracy: 66.400\n",
      "--------------------------------------------------\n",
      "Epoch 10 of 200\n",
      "Training Loss: 0.736, Training Accuracy: 73.553\n",
      "Validation Loss: 0.919, Validation Accuracy: 68.778\n",
      "--------------------------------------------------\n",
      "Epoch 11 of 200\n",
      "Training Loss: 0.667, Training Accuracy: 76.054\n",
      "Validation Loss: 0.917, Validation Accuracy: 68.378\n",
      "--------------------------------------------------\n",
      "Epoch 12 of 200\n",
      "Training Loss: 0.594, Training Accuracy: 78.696\n",
      "Validation Loss: 0.922, Validation Accuracy: 70.111\n",
      "--------------------------------------------------\n",
      "Epoch 13 of 200\n",
      "Training Loss: 0.529, Training Accuracy: 80.975\n",
      "Validation Loss: 0.953, Validation Accuracy: 69.644\n",
      "--------------------------------------------------\n",
      "Epoch 14 of 200\n",
      "Training Loss: 0.461, Training Accuracy: 83.472\n",
      "Validation Loss: 1.028, Validation Accuracy: 68.689\n",
      "--------------------------------------------------\n",
      "Epoch 15 of 200\n",
      "Training Loss: 0.406, Training Accuracy: 85.585\n",
      "Validation Loss: 1.080, Validation Accuracy: 68.089\n",
      "--------------------------------------------------\n",
      "Epoch 16 of 200\n",
      "Training Loss: 0.348, Training Accuracy: 87.704\n",
      "Validation Loss: 1.089, Validation Accuracy: 68.022\n",
      "--------------------------------------------------\n",
      "Epoch 17 of 200\n",
      "Training Loss: 0.306, Training Accuracy: 89.067\n",
      "Validation Loss: 1.124, Validation Accuracy: 69.422\n",
      "--------------------------------------------------\n",
      "Epoch 18 of 200\n",
      "Training Loss: 0.256, Training Accuracy: 90.864\n",
      "Validation Loss: 1.214, Validation Accuracy: 68.689\n",
      "--------------------------------------------------\n",
      "Epoch 19 of 200\n",
      "Training Loss: 0.227, Training Accuracy: 91.827\n",
      "Validation Loss: 1.299, Validation Accuracy: 68.289\n",
      "--------------------------------------------------\n",
      "Epoch 20 of 200\n",
      "Training Loss: 0.197, Training Accuracy: 92.879\n",
      "Validation Loss: 1.311, Validation Accuracy: 68.156\n",
      "--------------------------------------------------\n",
      "Epoch 21 of 200\n",
      "Training Loss: 0.166, Training Accuracy: 94.131\n",
      "Validation Loss: 1.420, Validation Accuracy: 68.044\n",
      "--------------------------------------------------\n",
      "Epoch 22 of 200\n",
      "Training Loss: 0.152, Training Accuracy: 94.590\n",
      "Validation Loss: 1.488, Validation Accuracy: 68.311\n",
      "--------------------------------------------------\n",
      "Epoch 23 of 200\n",
      "Training Loss: 0.141, Training Accuracy: 95.040\n",
      "Validation Loss: 1.534, Validation Accuracy: 68.733\n",
      "--------------------------------------------------\n",
      "Epoch 24 of 200\n",
      "Training Loss: 0.124, Training Accuracy: 95.652\n",
      "Validation Loss: 1.610, Validation Accuracy: 68.133\n",
      "--------------------------------------------------\n",
      "Epoch 25 of 200\n",
      "Training Loss: 0.123, Training Accuracy: 95.681\n",
      "Validation Loss: 1.581, Validation Accuracy: 68.333\n",
      "--------------------------------------------------\n",
      "Epoch 26 of 200\n",
      "Training Loss: 0.110, Training Accuracy: 96.212\n",
      "Validation Loss: 1.620, Validation Accuracy: 68.800\n",
      "--------------------------------------------------\n",
      "Epoch 27 of 200\n",
      "Training Loss: 0.103, Training Accuracy: 96.395\n",
      "Validation Loss: 1.629, Validation Accuracy: 68.400\n",
      "--------------------------------------------------\n",
      "Epoch 28 of 200\n",
      "Training Loss: 0.096, Training Accuracy: 96.617\n",
      "Validation Loss: 1.657, Validation Accuracy: 69.444\n",
      "--------------------------------------------------\n",
      "Epoch 29 of 200\n",
      "Training Loss: 0.101, Training Accuracy: 96.393\n",
      "Validation Loss: 1.633, Validation Accuracy: 69.022\n",
      "--------------------------------------------------\n",
      "Epoch 30 of 200\n",
      "Training Loss: 0.088, Training Accuracy: 96.951\n",
      "Validation Loss: 1.738, Validation Accuracy: 69.022\n",
      "--------------------------------------------------\n",
      "Epoch 31 of 200\n",
      "Training Loss: 0.089, Training Accuracy: 96.896\n",
      "Validation Loss: 1.672, Validation Accuracy: 69.133\n",
      "--------------------------------------------------\n",
      "Epoch 32 of 200\n",
      "Training Loss: 0.080, Training Accuracy: 97.289\n",
      "Validation Loss: 1.743, Validation Accuracy: 68.422\n",
      "--------------------------------------------------\n",
      "Epoch 33 of 200\n",
      "Training Loss: 0.078, Training Accuracy: 97.316\n",
      "Validation Loss: 1.679, Validation Accuracy: 69.044\n",
      "--------------------------------------------------\n",
      "Epoch 34 of 200\n",
      "Training Loss: 0.074, Training Accuracy: 97.368\n",
      "Validation Loss: 1.824, Validation Accuracy: 68.400\n",
      "--------------------------------------------------\n",
      "Epoch 35 of 200\n",
      "Training Loss: 0.079, Training Accuracy: 97.341\n",
      "Validation Loss: 1.736, Validation Accuracy: 69.333\n",
      "--------------------------------------------------\n",
      "Epoch 36 of 200\n",
      "Training Loss: 0.068, Training Accuracy: 97.696\n",
      "Validation Loss: 1.809, Validation Accuracy: 68.111\n",
      "--------------------------------------------------\n",
      "Epoch 37 of 200\n",
      "Training Loss: 0.069, Training Accuracy: 97.657\n",
      "Validation Loss: 1.878, Validation Accuracy: 68.156\n",
      "--------------------------------------------------\n",
      "Epoch 38 of 200\n"
     ]
    },
    {
     "ename": "KeyboardInterrupt",
     "evalue": "",
     "output_type": "error",
     "traceback": [
      "\u001b[1;31m---------------------------------------------------------------------------\u001b[0m",
      "\u001b[1;31mKeyboardInterrupt\u001b[0m                         Traceback (most recent call last)",
      "Cell \u001b[1;32mIn[20], line 40\u001b[0m\n\u001b[0;32m     37\u001b[0m loss \u001b[38;5;241m=\u001b[39m criterion(output, labels)\n\u001b[0;32m     39\u001b[0m \u001b[38;5;66;03m# backpropagation:\u001b[39;00m\n\u001b[1;32m---> 40\u001b[0m \u001b[43mloss\u001b[49m\u001b[38;5;241;43m.\u001b[39;49m\u001b[43mbackward\u001b[49m\u001b[43m(\u001b[49m\u001b[43m)\u001b[49m\n\u001b[0;32m     42\u001b[0m \u001b[38;5;66;03m# updating the weights:\u001b[39;00m\n\u001b[0;32m     43\u001b[0m optimizer\u001b[38;5;241m.\u001b[39mstep()\n",
      "File \u001b[1;32mC:\\Program Files\\Python310\\lib\\site-packages\\torch\\_tensor.py:487\u001b[0m, in \u001b[0;36mTensor.backward\u001b[1;34m(self, gradient, retain_graph, create_graph, inputs)\u001b[0m\n\u001b[0;32m    477\u001b[0m \u001b[38;5;28;01mif\u001b[39;00m has_torch_function_unary(\u001b[38;5;28mself\u001b[39m):\n\u001b[0;32m    478\u001b[0m     \u001b[38;5;28;01mreturn\u001b[39;00m handle_torch_function(\n\u001b[0;32m    479\u001b[0m         Tensor\u001b[38;5;241m.\u001b[39mbackward,\n\u001b[0;32m    480\u001b[0m         (\u001b[38;5;28mself\u001b[39m,),\n\u001b[1;32m   (...)\u001b[0m\n\u001b[0;32m    485\u001b[0m         inputs\u001b[38;5;241m=\u001b[39minputs,\n\u001b[0;32m    486\u001b[0m     )\n\u001b[1;32m--> 487\u001b[0m \u001b[43mtorch\u001b[49m\u001b[38;5;241;43m.\u001b[39;49m\u001b[43mautograd\u001b[49m\u001b[38;5;241;43m.\u001b[39;49m\u001b[43mbackward\u001b[49m\u001b[43m(\u001b[49m\n\u001b[0;32m    488\u001b[0m \u001b[43m    \u001b[49m\u001b[38;5;28;43mself\u001b[39;49m\u001b[43m,\u001b[49m\u001b[43m \u001b[49m\u001b[43mgradient\u001b[49m\u001b[43m,\u001b[49m\u001b[43m \u001b[49m\u001b[43mretain_graph\u001b[49m\u001b[43m,\u001b[49m\u001b[43m \u001b[49m\u001b[43mcreate_graph\u001b[49m\u001b[43m,\u001b[49m\u001b[43m \u001b[49m\u001b[43minputs\u001b[49m\u001b[38;5;241;43m=\u001b[39;49m\u001b[43minputs\u001b[49m\n\u001b[0;32m    489\u001b[0m \u001b[43m\u001b[49m\u001b[43m)\u001b[49m\n",
      "File \u001b[1;32mC:\\Program Files\\Python310\\lib\\site-packages\\torch\\autograd\\__init__.py:200\u001b[0m, in \u001b[0;36mbackward\u001b[1;34m(tensors, grad_tensors, retain_graph, create_graph, grad_variables, inputs)\u001b[0m\n\u001b[0;32m    195\u001b[0m     retain_graph \u001b[38;5;241m=\u001b[39m create_graph\n\u001b[0;32m    197\u001b[0m \u001b[38;5;66;03m# The reason we repeat same the comment below is that\u001b[39;00m\n\u001b[0;32m    198\u001b[0m \u001b[38;5;66;03m# some Python versions print out the first line of a multi-line function\u001b[39;00m\n\u001b[0;32m    199\u001b[0m \u001b[38;5;66;03m# calls in the traceback and some print out the last line\u001b[39;00m\n\u001b[1;32m--> 200\u001b[0m \u001b[43mVariable\u001b[49m\u001b[38;5;241;43m.\u001b[39;49m\u001b[43m_execution_engine\u001b[49m\u001b[38;5;241;43m.\u001b[39;49m\u001b[43mrun_backward\u001b[49m\u001b[43m(\u001b[49m\u001b[43m  \u001b[49m\u001b[38;5;66;43;03m# Calls into the C++ engine to run the backward pass\u001b[39;49;00m\n\u001b[0;32m    201\u001b[0m \u001b[43m    \u001b[49m\u001b[43mtensors\u001b[49m\u001b[43m,\u001b[49m\u001b[43m \u001b[49m\u001b[43mgrad_tensors_\u001b[49m\u001b[43m,\u001b[49m\u001b[43m \u001b[49m\u001b[43mretain_graph\u001b[49m\u001b[43m,\u001b[49m\u001b[43m \u001b[49m\u001b[43mcreate_graph\u001b[49m\u001b[43m,\u001b[49m\u001b[43m \u001b[49m\u001b[43minputs\u001b[49m\u001b[43m,\u001b[49m\n\u001b[0;32m    202\u001b[0m \u001b[43m    \u001b[49m\u001b[43mallow_unreachable\u001b[49m\u001b[38;5;241;43m=\u001b[39;49m\u001b[38;5;28;43;01mTrue\u001b[39;49;00m\u001b[43m,\u001b[49m\u001b[43m \u001b[49m\u001b[43maccumulate_grad\u001b[49m\u001b[38;5;241;43m=\u001b[39;49m\u001b[38;5;28;43;01mTrue\u001b[39;49;00m\u001b[43m)\u001b[49m\n",
      "\u001b[1;31mKeyboardInterrupt\u001b[0m: "
     ]
    }
   ],
   "source": [
    "epochs = 200\n",
    "\n",
    "# lists to keep track of losses and accuracies during training:\n",
    "train_loss = []\n",
    "train_acc = []\n",
    "valid_loss = []\n",
    "valid_acc = []\n",
    "\n",
    "for epoch in range(1, epochs + 1):\n",
    "    # a counter to efficiently calculate loss:\n",
    "    counter = 0\n",
    "    \n",
    "    # set the model on training mode, so the gradients can be updated:\n",
    "    model.train()\n",
    "    \n",
    "    print(f'Epoch {epoch} of {epochs}')\n",
    "    \n",
    "    # to calculate loss and accuracy for whole epoch:\n",
    "    train_running_loss = 0.0\n",
    "    train_running_correct = 0\n",
    "    \n",
    "    for data, labels in train_loader:\n",
    "        counter += 1\n",
    "        \n",
    "        # read data and labels, and move them to gpu:\n",
    "        data= data.to(device)\n",
    "        labels = labels.type(torch.LongTensor)\n",
    "        labels = labels.to(device)\n",
    "        \n",
    "        # preparing for training and validation:\n",
    "        optimizer.zero_grad()\n",
    "        \n",
    "        # forward-pass:\n",
    "        output = model(data)\n",
    "        \n",
    "        # calculating the loss:\n",
    "        loss = criterion(output, labels)\n",
    "        \n",
    "        # backpropagation:\n",
    "        loss.backward()\n",
    "        \n",
    "        # updating the weights:\n",
    "        optimizer.step()\n",
    "        \n",
    "        # calculating the accuracy for the epoch:\n",
    "        _, preds = torch.max(output.data, 1)\n",
    "        train_running_correct += (preds == labels).sum().item()\n",
    "        \n",
    "        # calculating the loss for the epoch:\n",
    "        train_running_loss += loss.item()\n",
    "\n",
    "    # training loss and accuracy for the whole epoch:\n",
    "    epoch_train_loss = train_running_loss / counter\n",
    "    epoch_train_acc = 100.0 * (train_running_correct / len(train_loader.dataset))\n",
    "    \n",
    "    print(f'Training Loss: {epoch_train_loss:.3f}, Training Accuracy: {epoch_train_acc:.3f}')\n",
    "    \n",
    "    # set the model to evaluation mode:\n",
    "    model.eval()\n",
    "    \n",
    "    # we don't want gradients being updated:\n",
    "    with torch.no_grad():\n",
    "        # loss and accuracy for whole validation or test set:\n",
    "        valid_running_loss = 0.0\n",
    "        valid_running_correct = 0\n",
    "\n",
    "        # a counter to efficiently calculate loss:\n",
    "        counter = 0\n",
    "        \n",
    "        for data, labels in valid_loader:\n",
    "            counter += 1\n",
    "            \n",
    "            # read data and labels, and move them to gpu:\n",
    "            data = data.to(device)\n",
    "            labels = labels.type(torch.LongTensor)\n",
    "            labels = labels.to(device)\n",
    "            \n",
    "            # forward-pass:\n",
    "            output = model(data)\n",
    "            \n",
    "            # calculating the loss:\n",
    "            loss = criterion(output, labels)\n",
    "\n",
    "            # calculating the accuracy for the epoch:\n",
    "            _, preds = torch.max(output.data, 1)\n",
    "            valid_running_correct += (preds == labels).sum().item()\n",
    "            \n",
    "            # calculating the loss for the epoch:\n",
    "            valid_running_loss += loss.item()\n",
    "\n",
    "        # loss and accuracy for the whole epoch:\n",
    "        epoch_valid_loss = valid_running_loss / counter\n",
    "        epoch_valid_acc = 100.0 * (valid_running_correct / len(valid_loader.dataset))\n",
    "        \n",
    "        print(f'Validation Loss: {epoch_valid_loss:.3f}, Validation Accuracy: {epoch_valid_acc:.3f}')\n",
    "        \n",
    "        print('-' * 50)\n",
    "        \n",
    "    lr_scheduler.step()   \n",
    "    \n",
    "    # save results in corresponding lists:\n",
    "    train_loss.append(epoch_train_loss)\n",
    "    train_acc.append(epoch_train_acc)\n",
    "    valid_loss.append(epoch_valid_loss)\n",
    "    valid_acc.append(epoch_valid_acc)"
   ]
  },
  {
   "cell_type": "code",
   "execution_count": 44,
   "id": "18204f29",
   "metadata": {},
   "outputs": [
    {
     "data": {
      "image/png": "[encoded data removed]",
      "text/plain": [
       "<Figure size 640x480 with 1 Axes>"
      ]
     },
     "metadata": {},
     "output_type": "display_data"
    },
    {
     "data": {
      "image/png": "[encoded data removed]",
      "text/plain": [
       "<Figure size 640x480 with 1 Axes>"
      ]
     },
     "metadata": {},
     "output_type": "display_data"
    }
   ],
   "source": [
    "# plot accuracy progress for both training and validation:\n",
    "\n",
    "plt.plot(train_acc, label='Training Accuracy', linewidth=3)\n",
    "plt.plot(valid_acc, label='Validation Accuracy', linewidth=3)\n",
    "plt.title('Model Accuracy')\n",
    "plt.xlabel('Epoch')\n",
    "plt.ylabel('Accuracy')\n",
    "plt.legend(loc='best', fontsize=14)\n",
    "plt.show()\n",
    "\n",
    "# plot loss progress for both training and validation:\n",
    "\n",
    "plt.plot(train_loss, label='Training Loss', linewidth=3)\n",
    "plt.plot(valid_loss, label='Validation Loss', linewidth=3)\n",
    "plt.title('Model Loss')\n",
    "plt.xlabel('Epoch')\n",
    "plt.ylabel('Loss')\n",
    "plt.legend(loc='best', fontsize=14)\n",
    "plt.show()"
   ]
  },
  {
   "cell_type": "code",
   "execution_count": 45,
   "id": "ec02bc2d",
   "metadata": {},
   "outputs": [
    {
     "name": "stdout",
     "output_type": "stream",
     "text": [
      "Test Loss: 0.887, Test Accuracy: 86.078\n"
     ]
    }
   ],
   "source": [
    "# evaluate the model on test-set:\n",
    "\n",
    "# set the model to evaluation mode:\n",
    "model.eval()\n",
    "\n",
    "model_outputs = []\n",
    "\n",
    "with torch.no_grad():\n",
    "    # loss and accuracy for whole validation or test set:\n",
    "    test_running_loss = 0.0\n",
    "    test_running_correct = 0\n",
    "\n",
    "    # a counter to efficiently calculate loss:\n",
    "    counter = 0\n",
    "    \n",
    "    for data, labels in test_loader:\n",
    "        counter += 1\n",
    "        \n",
    "        # read data and labels, and move them to gpu:\n",
    "        data= data.to(device)\n",
    "        labels = labels.type(torch.LongTensor)\n",
    "        labels = labels.to(device)\n",
    "        \n",
    "        # forward-pass:\n",
    "        output = model(data)\n",
    "        \n",
    "        model_outputs += output\n",
    "        \n",
    "        # calculating the loss:\n",
    "        loss = criterion(output, labels)\n",
    "\n",
    "        # calculating the accuracy for the epoch:\n",
    "        _, preds = torch.max(output.data, 1)\n",
    "        test_running_correct += (preds == labels).sum().item()\n",
    "        \n",
    "        # calculating the loss for the epoch:\n",
    "        test_running_loss += loss.item()\n",
    "\n",
    "    # loss and accuracy for the whole epoch:\n",
    "    test_loss = test_running_loss / counter\n",
    "    test_acc = 100.0 * (test_running_correct / len(test_loader.dataset))\n",
    "    \n",
    "    print(f'Test Loss: {test_loss:.3f}, Test Accuracy: {test_acc:.3f}')"
   ]
  },
  {
   "cell_type": "markdown",
   "id": "746f5cfb",
   "metadata": {},
   "source": [
    "# saving and loading the model"
   ]
  },
  {
   "cell_type": "code",
   "execution_count": 46,
   "id": "037af6fe",
   "metadata": {},
   "outputs": [],
   "source": [
    "torch.save(model, 'model without frog.pt')"
   ]
  },
  {
   "cell_type": "code",
   "execution_count": 59,
   "id": "ef640b43",
   "metadata": {},
   "outputs": [],
   "source": [
    "model = torch.load('model without frog.pt')"
   ]
  },
  {
   "cell_type": "markdown",
   "id": "9139ec06",
   "metadata": {},
   "source": [
    "# process of saving outputs of the model for original test data"
   ]
  },
  {
   "cell_type": "code",
   "execution_count": 60,
   "id": "254b8521",
   "metadata": {},
   "outputs": [],
   "source": [
    "# evaluate the model on test-set:\n",
    "\n",
    "# set the model to evaluation mode:\n",
    "model.eval()\n",
    "\n",
    "model_outputs = []\n",
    "\n",
    "with torch.no_grad():\n",
    "    # loss and accuracy for whole validation or test set:\n",
    "    test_running_loss = 0.0\n",
    "    test_running_correct = 0\n",
    "\n",
    "    # a counter to efficiently calculate loss:\n",
    "    counter = 0\n",
    "    \n",
    "    for data, labels in test_loader:\n",
    "        counter += 1\n",
    "        \n",
    "        # read data and labels, and move them to gpu:\n",
    "        data= data.to(device)\n",
    "        labels = labels.type(torch.LongTensor)\n",
    "        labels = labels.to(device)\n",
    "        \n",
    "        # forward-pass:\n",
    "        output = model(data)\n",
    "        \n",
    "        model_outputs += output"
   ]
  },
  {
   "cell_type": "markdown",
   "id": "af2259d0",
   "metadata": {},
   "source": [
    "# passing the outputs of the model through softmax to get the logits"
   ]
  },
  {
   "cell_type": "code",
   "execution_count": 61,
   "id": "1ea4733a",
   "metadata": {},
   "outputs": [
    {
     "name": "stdout",
     "output_type": "stream",
     "text": [
      "tensor([[9.5831e-12, 2.3130e-08, 4.2878e-13,  ..., 5.6399e-11, 1.8543e-12,\n",
      "         9.4944e-08],\n",
      "        [1.6739e-09, 1.6869e-07, 3.6465e-16,  ..., 9.7675e-14, 5.5484e-15,\n",
      "         1.0000e+00],\n",
      "        [4.8456e-09, 1.2216e-09, 2.5134e-12,  ..., 8.8180e-12, 5.8022e-14,\n",
      "         1.0000e+00],\n",
      "        ...,\n",
      "        [1.3157e-16, 1.3796e-12, 4.9632e-13,  ..., 1.4898e-15, 9.1996e-13,\n",
      "         2.0125e-14],\n",
      "        [4.6172e-06, 9.9999e-01, 1.2151e-06,  ..., 1.5371e-10, 2.3217e-10,\n",
      "         5.0038e-12],\n",
      "        [1.7775e-14, 2.6393e-12, 5.4417e-16,  ..., 2.4951e-16, 1.0000e+00,\n",
      "         3.4480e-16]], device='cuda:0')\n",
      "torch.Size([9000, 9])\n"
     ]
    }
   ],
   "source": [
    "model_outputs = torch.stack(model_outputs, 0)\n",
    "softmax_logits = F.softmax(model_outputs, 1)\n",
    "\n",
    "print(softmax_logits)\n",
    "print(softmax_logits.size())"
   ]
  },
  {
   "cell_type": "markdown",
   "id": "7173e514",
   "metadata": {},
   "source": [
    "# getting the maximum probability value in the logits"
   ]
  },
  {
   "cell_type": "code",
   "execution_count": 62,
   "id": "ae9303d3",
   "metadata": {},
   "outputs": [
    {
     "name": "stdout",
     "output_type": "stream",
     "text": [
      "tensor([1.0000, 1.0000, 1.0000,  ..., 1.0000, 1.0000, 1.0000], device='cuda:0')\n",
      "torch.Size([9000])\n"
     ]
    }
   ],
   "source": [
    "softmax_logits_max = torch.max(softmax_logits, 1)[0]\n",
    "\n",
    "print(softmax_logits_max)\n",
    "print(softmax_logits_max.size())"
   ]
  },
  {
   "cell_type": "markdown",
   "id": "7810f2e8",
   "metadata": {},
   "source": [
    "# finding a suitable threshold, so that maximum probability above that threshold is considered to be inlier data"
   ]
  },
  {
   "cell_type": "code",
   "execution_count": 63,
   "id": "a8a99c42",
   "metadata": {},
   "outputs": [
    {
     "name": "stdout",
     "output_type": "stream",
     "text": [
      "0.7523964792490007\n"
     ]
    }
   ],
   "source": [
    "threshold = np.percentile(softmax_logits_max.cpu(), 5)\n",
    "print(threshold)"
   ]
  },
  {
   "cell_type": "markdown",
   "id": "c88b8af8",
   "metadata": {},
   "source": [
    "# checking if we found the threshold correctly"
   ]
  },
  {
   "cell_type": "code",
   "execution_count": 64,
   "id": "b3ee25d0",
   "metadata": {},
   "outputs": [
    {
     "name": "stdout",
     "output_type": "stream",
     "text": [
      "tensor([True, True, True,  ..., True, True, True], device='cuda:0')\n",
      "torch.Size([9000])\n",
      "(8550,)\n",
      "Inlier Percentage = 95.0%\n"
     ]
    }
   ],
   "source": [
    "inlier_indices = softmax_logits_max >= threshold\n",
    "print(inlier_indices)\n",
    "print(inlier_indices.shape)\n",
    "\n",
    "print(np.where(inlier_indices.cpu() == True)[0].shape)\n",
    "\n",
    "print(f'Inlier Percentage = {np.where(inlier_indices.cpu() == True)[0].shape[0] / softmax_logits_max.size(0) * 100}%')"
   ]
  },
  {
   "cell_type": "markdown",
   "id": "7fad22ba",
   "metadata": {},
   "source": [
    "# now, creating a dataloader for frogs' class"
   ]
  },
  {
   "cell_type": "code",
   "execution_count": 66,
   "id": "fd83684c",
   "metadata": {},
   "outputs": [],
   "source": [
    "# create dataloader for frogs' class:\n",
    "\n",
    "x_test_frog = torch.from_numpy(x_test_frog)\n",
    "y_test_frog = torch.from_numpy(y_test_frog)\n",
    "\n",
    "test_set_frog = TensorDataset(x_test_frog, y_test_frog)\n",
    "test_loader_frog = DataLoader(test_set_frog, batch_size=128, shuffle=False)"
   ]
  },
  {
   "cell_type": "markdown",
   "id": "72d21dbd",
   "metadata": {},
   "source": [
    "# process of saving outputs of the model for frogs' test data"
   ]
  },
  {
   "cell_type": "code",
   "execution_count": 67,
   "id": "4d3c1b50",
   "metadata": {},
   "outputs": [],
   "source": [
    "# get the output of model for frogs:\n",
    "\n",
    "# set the model to evaluation mode:\n",
    "model.eval()\n",
    "\n",
    "model_ouputs_frog = []\n",
    "\n",
    "with torch.no_grad():\n",
    "    for data, labels in test_loader_frog:\n",
    "        counter += 1\n",
    "        \n",
    "        # read data and labels, and move them to gpu:\n",
    "        data= data.to(device)\n",
    "        labels = labels.type(torch.LongTensor)\n",
    "        labels = labels.to(device)\n",
    "        \n",
    "        # forward-pass:\n",
    "        output = model(data)\n",
    "        \n",
    "        model_ouputs_frog += output"
   ]
  },
  {
   "cell_type": "markdown",
   "id": "c3cd5c90",
   "metadata": {},
   "source": [
    "# passing the outputs of the model through softmax to get the logits"
   ]
  },
  {
   "cell_type": "code",
   "execution_count": 68,
   "id": "b95d02e9",
   "metadata": {},
   "outputs": [
    {
     "name": "stdout",
     "output_type": "stream",
     "text": [
      "tensor([[2.7395e-08, 1.8699e-06, 1.8477e-02,  ..., 3.6256e-06, 1.0693e-10,\n",
      "         1.1387e-05],\n",
      "        [3.6126e-11, 8.6772e-07, 2.1900e-08,  ..., 2.8992e-07, 1.2899e-06,\n",
      "         1.0819e-07],\n",
      "        [5.1834e-06, 3.0171e-07, 2.0631e-01,  ..., 3.2509e-07, 4.6540e-07,\n",
      "         6.6202e-08],\n",
      "        ...,\n",
      "        [1.6351e-06, 1.9549e-10, 1.6919e-01,  ..., 5.0322e-09, 2.7898e-10,\n",
      "         3.8083e-10],\n",
      "        [1.3778e-08, 1.2713e-01, 1.1103e-02,  ..., 1.5094e-04, 1.6089e-09,\n",
      "         9.4931e-05],\n",
      "        [2.7991e-06, 2.3978e-05, 8.9205e-01,  ..., 5.2535e-06, 2.1634e-06,\n",
      "         6.3813e-03]], device='cuda:0')\n",
      "torch.Size([1000, 9])\n"
     ]
    }
   ],
   "source": [
    "# get the output of model for frogs and pass it through softmax to get frogs' logits:\n",
    "\n",
    "model_ouputs_frog = torch.stack(model_ouputs_frog, 0)\n",
    "softmax_logit_frogs = F.softmax(model_ouputs_frog, 1)\n",
    "\n",
    "print(softmax_logit_frogs)\n",
    "print(softmax_logit_frogs.size())"
   ]
  },
  {
   "cell_type": "markdown",
   "id": "466aacbb",
   "metadata": {},
   "source": [
    "# getting the maximum probability value in the logits"
   ]
  },
  {
   "cell_type": "code",
   "execution_count": 69,
   "id": "b786212a",
   "metadata": {
    "scrolled": true
   },
   "outputs": [
    {
     "name": "stdout",
     "output_type": "stream",
     "text": [
      "tensor([0.8985, 0.9990, 0.7937, 1.0000, 1.0000, 0.9996, 0.9619, 0.9918, 1.0000,\n",
      "        1.0000, 0.9718, 0.9877, 0.9767, 1.0000, 0.9645, 0.8063, 0.7884, 0.7992,\n",
      "        1.0000, 1.0000, 1.0000, 1.0000, 0.9992, 1.0000, 1.0000, 0.9996, 0.5328,\n",
      "        0.4946, 0.9928, 0.9087, 1.0000, 0.9398, 1.0000, 0.5112, 0.7620, 0.6160,\n",
      "        0.7183, 0.9999, 0.9975, 0.9419, 0.6033, 0.6252, 0.9999, 0.9999, 0.7908,\n",
      "        0.9518, 0.9720, 0.8288, 0.9999, 0.9603, 0.8582, 0.5964, 0.9922, 0.9941,\n",
      "        0.9395, 0.9999, 1.0000, 0.9460, 0.7749, 0.9942, 0.9886, 0.9241, 0.6142,\n",
      "        0.9998, 0.9478, 0.9306, 0.9988, 0.6622, 0.9077, 0.9853, 0.9924, 0.9998,\n",
      "        0.6701, 0.9998, 1.0000, 0.9890, 0.8543, 0.9848, 1.0000, 0.6162, 0.9787,\n",
      "        0.9958, 0.8602, 0.3546, 1.0000, 0.9994, 1.0000, 0.8208, 0.7026, 0.9894,\n",
      "        0.8762, 0.6460, 0.9987, 0.8233, 0.9962, 0.9658, 0.7157, 1.0000, 0.9969,\n",
      "        1.0000, 0.5636, 0.9999, 0.9498, 0.9429, 0.6176, 0.9985, 0.6642, 0.5655,\n",
      "        0.5432, 0.9999, 1.0000, 0.9958, 0.9998, 0.5366, 0.9986, 0.6779, 0.9999,\n",
      "        0.9079, 0.9012, 0.9883, 0.6814, 0.9999, 0.3467, 0.9689, 1.0000, 0.8188,\n",
      "        0.9377, 0.9170, 0.9998, 0.9991, 0.6035, 1.0000, 1.0000, 0.9408, 0.9967,\n",
      "        0.8126, 0.7111, 0.9280, 1.0000, 0.9942, 0.9959, 0.7219, 0.9878, 0.9994,\n",
      "        0.9139, 0.5980, 0.9575, 0.9978, 0.9986, 1.0000, 0.9891, 0.9549, 0.9989,\n",
      "        1.0000, 0.7844, 0.9950, 0.8852, 0.9721, 0.9988, 0.9863, 0.5456, 1.0000,\n",
      "        0.9936, 0.9910, 0.9595, 0.6159, 0.9992, 0.8332, 0.7202, 0.9823, 0.5172,\n",
      "        0.7195, 0.9982, 0.9997, 0.8029, 0.9262, 0.6814, 0.9269, 0.9997, 0.5225,\n",
      "        0.9067, 0.7506, 1.0000, 1.0000, 0.9997, 1.0000, 0.9506, 0.9976, 0.9079,\n",
      "        0.9949, 0.6649, 0.9998, 0.9999, 0.9658, 0.9990, 0.9495, 0.9754, 0.8016,\n",
      "        0.7484, 0.9848, 1.0000, 0.9999, 0.5353, 0.6467, 0.9367, 0.9999, 0.8571,\n",
      "        0.9992, 1.0000, 1.0000, 0.6794, 1.0000, 0.9527, 0.9997, 0.9989, 1.0000,\n",
      "        0.9998, 0.7930, 0.9571, 0.9984, 0.5134, 0.3589, 0.9942, 1.0000, 0.9998,\n",
      "        0.9999, 0.7447, 0.5125, 0.9933, 0.9846, 0.9503, 0.6508, 1.0000, 0.9664,\n",
      "        0.9746, 0.9998, 0.9976, 0.9996, 0.9288, 1.0000, 0.8576, 0.9979, 0.9967,\n",
      "        0.6879, 0.9903, 0.9986, 0.9988, 1.0000, 1.0000, 0.9361, 0.9604, 0.9989,\n",
      "        0.5188, 0.9899, 0.6962, 1.0000, 0.9938, 0.6301, 0.8346, 0.5100, 0.7222,\n",
      "        0.9999, 0.8715, 0.9990, 0.9977, 0.9962, 0.9999, 0.9979, 1.0000, 0.8944,\n",
      "        0.9972, 0.6665, 0.9996, 1.0000, 0.9900, 0.9932, 0.9794, 1.0000, 0.9517,\n",
      "        0.7639, 0.9982, 0.8192, 1.0000, 0.9590, 1.0000, 0.8012, 0.8954, 0.5041,\n",
      "        0.9980, 0.5110, 0.4803, 0.5982, 0.6225, 0.9708, 1.0000, 0.9766, 0.9457,\n",
      "        1.0000, 0.9966, 0.9999, 0.9287, 0.4696, 0.9991, 0.9964, 0.8667, 0.9543,\n",
      "        0.8858, 0.8720, 0.8154, 0.9519, 0.9786, 0.8964, 1.0000, 0.9845, 1.0000,\n",
      "        1.0000, 1.0000, 0.9831, 0.9841, 0.8368, 0.7845, 1.0000, 0.9588, 0.9476,\n",
      "        0.8469, 0.9877, 0.9993, 0.9995, 0.8971, 0.5817, 0.9210, 0.9791, 0.5238,\n",
      "        0.9999, 0.9992, 0.8722, 0.9996, 0.9666, 0.7539, 1.0000, 1.0000, 0.9994,\n",
      "        1.0000, 1.0000, 1.0000, 0.9524, 0.9869, 0.7604, 1.0000, 1.0000, 0.9986,\n",
      "        0.8949, 1.0000, 1.0000, 0.9962, 0.7368, 0.9966, 0.9884, 0.8322, 0.7221,\n",
      "        0.9989, 1.0000, 0.9718, 0.9609, 1.0000, 0.9945, 0.9956, 0.9186, 1.0000,\n",
      "        1.0000, 0.9959, 0.9672, 0.8638, 0.9999, 0.9817, 0.9999, 0.6024, 0.9445,\n",
      "        0.8349, 0.9961, 0.9772, 0.8044, 0.9134, 1.0000, 0.9999, 0.8437, 0.8973,\n",
      "        0.9153, 0.9995, 0.7388, 0.9622, 0.8820, 0.4700, 0.2915, 0.9547, 0.5323,\n",
      "        0.8508, 0.9077, 1.0000, 0.9889, 1.0000, 0.9969, 1.0000, 0.8223, 0.9319,\n",
      "        0.9606, 0.9578, 0.9319, 1.0000, 1.0000, 0.6868, 0.6592, 0.9898, 1.0000,\n",
      "        1.0000, 1.0000, 1.0000, 0.5381, 0.9150, 0.9489, 0.9179, 1.0000, 0.9948,\n",
      "        0.7725, 0.5250, 0.5468, 0.9987, 0.9880, 0.5535, 0.9983, 0.9078, 0.9599,\n",
      "        0.9832, 0.5695, 0.8119, 0.9099, 0.6996, 0.8578, 0.9935, 1.0000, 0.9985,\n",
      "        0.9692, 0.9689, 0.6898, 1.0000, 0.9994, 1.0000, 0.8995, 1.0000, 0.9637,\n",
      "        0.9119, 0.9832, 0.8713, 0.7413, 0.8484, 0.9974, 0.9972, 0.8677, 0.9997,\n",
      "        1.0000, 0.9967, 0.9524, 0.8399, 0.9581, 1.0000, 0.8169, 0.8659, 1.0000,\n",
      "        0.7091, 0.8590, 0.9983, 0.8192, 0.9999, 1.0000, 0.5573, 0.9908, 1.0000,\n",
      "        0.9999, 0.9382, 0.9982, 1.0000, 0.7553, 0.9999, 0.9896, 0.5310, 0.9453,\n",
      "        0.6144, 1.0000, 0.9950, 0.9581, 0.9538, 0.9993, 0.9989, 1.0000, 0.8710,\n",
      "        0.7613, 0.9999, 0.9127, 0.8541, 1.0000, 0.5982, 0.9962, 0.9906, 1.0000,\n",
      "        0.9991, 0.7863, 0.6473, 0.6235, 0.9996, 0.9239, 0.6627, 0.9999, 0.9986,\n",
      "        0.9997, 0.9540, 1.0000, 1.0000, 1.0000, 0.9937, 1.0000, 1.0000, 1.0000,\n",
      "        0.7689, 0.9903, 0.7938, 0.9997, 1.0000, 1.0000, 0.9808, 1.0000, 0.9981,\n",
      "        0.9947, 0.9998, 0.9999, 0.9514, 0.7378, 1.0000, 1.0000, 1.0000, 0.8074,\n",
      "        0.9872, 0.7608, 0.9396, 0.9670, 0.9992, 0.9994, 0.9997, 0.6134, 0.7443,\n",
      "        0.6629, 0.9997, 0.7732, 0.9516, 0.9994, 0.8557, 0.9904, 0.9994, 0.7571,\n",
      "        0.9850, 0.8414, 0.9705, 0.6880, 0.7255, 1.0000, 0.9995, 0.9990, 1.0000,\n",
      "        0.9907, 0.9994, 0.9954, 0.9697, 1.0000, 0.9272, 1.0000, 0.8333, 0.9957,\n",
      "        0.9014, 0.9939, 0.9996, 0.9953, 0.9962, 0.6016, 0.9966, 0.8561, 0.6767,\n",
      "        1.0000, 0.8089, 0.9524, 0.9837, 0.8555, 0.9714, 0.9211, 0.7549, 1.0000,\n",
      "        0.9849, 0.4446, 0.9999, 1.0000, 0.9996, 0.9884, 0.9968, 0.9956, 0.9149,\n",
      "        0.9019, 0.9980, 0.9999, 0.9970, 0.4223, 0.9935, 0.9969, 0.9688, 1.0000,\n",
      "        0.9644, 0.9856, 0.7379, 0.8811, 0.9989, 0.9065, 0.9999, 0.9876, 0.9719,\n",
      "        0.9830, 0.8788, 0.7615, 0.7689, 0.5493, 0.7829, 0.9892, 1.0000, 1.0000,\n",
      "        0.9937, 0.9918, 0.8449, 1.0000, 0.9142, 0.9961, 0.9997, 0.5316, 0.9995,\n",
      "        0.9999, 0.7313, 0.9820, 0.9898, 0.5663, 0.9625, 0.7302, 0.9673, 1.0000,\n",
      "        1.0000, 0.8460, 0.9994, 1.0000, 1.0000, 0.8962, 0.7875, 0.9905, 0.8293,\n",
      "        0.4910, 1.0000, 0.9944, 0.8342, 0.9981, 0.9744, 0.8228, 0.9972, 0.6615,\n",
      "        0.9784, 0.8963, 0.9926, 0.9145, 0.5788, 1.0000, 0.4997, 0.9269, 0.9986,\n",
      "        0.9999, 0.9815, 0.9997, 0.9780, 0.9954, 0.9995, 0.9914, 0.9682, 1.0000,\n",
      "        1.0000, 0.9583, 0.7819, 1.0000, 1.0000, 0.9985, 0.5467, 0.9430, 0.9278,\n",
      "        0.9998, 0.9962, 0.4649, 0.8038, 0.9332, 0.6611, 0.9995, 1.0000, 0.8899,\n",
      "        0.8438, 0.7016, 0.9997, 1.0000, 0.9999, 0.5106, 1.0000, 0.9701, 1.0000,\n",
      "        1.0000, 0.9505, 0.9998, 1.0000, 1.0000, 1.0000, 0.7484, 0.9526, 0.9941,\n",
      "        0.8887, 0.7150, 0.9963, 0.9998, 0.6046, 0.8363, 0.9079, 0.9690, 0.9245,\n",
      "        0.9995, 1.0000, 0.9802, 0.9996, 0.9578, 0.9566, 0.9586, 0.9993, 0.6360,\n",
      "        0.7632, 0.7732, 1.0000, 0.8298, 0.6458, 0.7366, 0.9867, 0.9769, 0.7761,\n",
      "        1.0000, 0.9185, 0.9174, 1.0000, 0.9904, 0.9963, 0.9999, 0.9791, 1.0000,\n",
      "        0.9850, 1.0000, 0.9989, 0.7124, 0.9715, 1.0000, 0.5116, 0.7339, 0.9193,\n",
      "        1.0000, 0.9913, 1.0000, 1.0000, 0.9972, 0.9988, 0.7706, 0.9721, 1.0000,\n",
      "        0.9885, 0.9999, 0.5294, 1.0000, 0.9611, 0.9999, 0.8932, 1.0000, 1.0000,\n",
      "        1.0000, 1.0000, 1.0000, 0.9999, 0.9960, 0.6471, 1.0000, 1.0000, 1.0000,\n",
      "        0.5651, 0.9937, 0.8291, 0.9995, 0.7268, 0.9897, 0.7929, 0.8859, 1.0000,\n",
      "        0.9999, 0.9998, 0.9968, 0.9999, 0.5798, 0.8499, 1.0000, 0.9951, 0.9954,\n",
      "        0.8203, 0.8448, 1.0000, 1.0000, 1.0000, 1.0000, 0.9996, 0.5973, 0.9995,\n",
      "        0.9985, 0.7940, 0.9572, 1.0000, 0.4035, 0.9933, 1.0000, 0.9981, 0.9695,\n",
      "        0.5925, 0.9990, 1.0000, 1.0000, 0.9950, 0.9854, 0.9111, 1.0000, 0.7819,\n",
      "        0.8996, 0.8269, 0.6048, 1.0000, 0.6997, 0.9660, 0.9344, 0.9984, 0.9286,\n",
      "        1.0000, 0.9719, 0.9992, 0.8627, 0.8628, 0.9937, 0.9964, 0.9657, 0.8679,\n",
      "        0.8262, 0.9993, 0.9966, 1.0000, 0.9995, 0.5103, 0.9995, 1.0000, 1.0000,\n",
      "        0.9075, 0.9511, 0.9922, 0.7016, 1.0000, 0.9920, 1.0000, 1.0000, 0.6085,\n",
      "        0.9798, 0.9992, 0.9998, 1.0000, 0.8933, 1.0000, 0.9978, 0.6187, 0.8849,\n",
      "        1.0000, 0.9942, 0.8942, 1.0000, 0.9736, 0.9960, 0.6312, 0.4808, 0.9699,\n",
      "        0.9950, 1.0000, 1.0000, 0.9999, 0.9952, 0.9668, 0.9642, 0.9987, 1.0000,\n",
      "        0.9971, 0.9940, 0.8147, 1.0000, 0.7104, 0.8664, 0.9208, 0.8751, 0.9669,\n",
      "        1.0000, 0.9386, 0.9926, 0.9997, 0.7493, 0.9972, 0.9986, 0.6820, 0.9356,\n",
      "        0.6835, 0.9871, 1.0000, 0.9685, 0.6692, 0.9991, 1.0000, 0.9999, 0.7545,\n",
      "        0.9960, 1.0000, 0.9886, 0.9189, 0.7413, 0.7679, 0.9895, 1.0000, 0.5372,\n",
      "        0.9135, 0.9767, 0.6465, 0.6191, 0.9056, 0.9988, 0.9425, 0.9980, 1.0000,\n",
      "        0.9974, 1.0000, 0.5444, 0.8817, 0.5847, 0.9963, 0.9951, 1.0000, 0.7177,\n",
      "        0.9963, 0.7200, 1.0000, 0.9639, 1.0000, 0.8740, 0.9580, 0.9977, 0.9640,\n",
      "        0.9993, 1.0000, 0.9668, 0.9596, 0.9943, 0.9950, 0.9726, 0.9858, 1.0000,\n",
      "        0.9519, 0.9986, 0.9994, 0.9527, 0.9802, 1.0000, 0.9833, 1.0000, 0.7526,\n",
      "        1.0000, 0.9693, 0.9591, 0.9776, 0.9998, 0.8206, 1.0000, 0.9953, 1.0000,\n",
      "        0.9952, 0.7855, 0.6123, 0.7045, 0.9328, 0.9986, 0.9953, 0.8307, 0.5311,\n",
      "        0.8920], device='cuda:0')\n",
      "torch.Size([1000])\n"
     ]
    }
   ],
   "source": [
    "softmax_logits_frogs_max = torch.max(softmax_logit_frogs, 1)[0]\n",
    "\n",
    "print(softmax_logits_frogs_max)\n",
    "print(softmax_logits_frogs_max.size())"
   ]
  },
  {
   "cell_type": "markdown",
   "id": "0cba1ea1",
   "metadata": {},
   "source": [
    "# comparing frogs' outlier data and finding a percentage which shows how many frogs' data is considered to be outlier"
   ]
  },
  {
   "cell_type": "code",
   "execution_count": 70,
   "id": "0f10fcb8",
   "metadata": {
    "scrolled": true
   },
   "outputs": [
    {
     "name": "stdout",
     "output_type": "stream",
     "text": [
      "tensor([False, False, False, False, False, False, False, False, False, False,\n",
      "        False, False, False, False, False, False, False, False, False, False,\n",
      "        False, False, False, False, False, False,  True,  True, False, False,\n",
      "        False, False, False,  True, False,  True,  True, False, False, False,\n",
      "         True,  True, False, False, False, False, False, False, False, False,\n",
      "        False,  True, False, False, False, False, False, False, False, False,\n",
      "        False, False,  True, False, False, False, False,  True, False, False,\n",
      "        False, False,  True, False, False, False, False, False, False,  True,\n",
      "        False, False, False,  True, False, False, False, False,  True, False,\n",
      "        False,  True, False, False, False, False,  True, False, False, False,\n",
      "         True, False, False, False,  True, False,  True,  True,  True, False,\n",
      "        False, False, False,  True, False,  True, False, False, False, False,\n",
      "         True, False,  True, False, False, False, False, False, False, False,\n",
      "         True, False, False, False, False, False,  True, False, False, False,\n",
      "        False,  True, False, False, False,  True, False, False, False, False,\n",
      "        False, False, False, False, False, False, False, False, False, False,\n",
      "         True, False, False, False, False,  True, False, False,  True, False,\n",
      "         True,  True, False, False, False, False,  True, False, False,  True,\n",
      "        False,  True, False, False, False, False, False, False, False, False,\n",
      "         True, False, False, False, False, False, False, False,  True, False,\n",
      "        False, False,  True,  True, False, False, False, False, False, False,\n",
      "         True, False, False, False, False, False, False, False, False, False,\n",
      "         True,  True, False, False, False, False,  True,  True, False, False,\n",
      "        False,  True, False, False, False, False, False, False, False, False,\n",
      "        False, False, False,  True, False, False, False, False, False, False,\n",
      "        False, False,  True, False,  True, False, False,  True, False,  True,\n",
      "         True, False, False, False, False, False, False, False, False, False,\n",
      "        False,  True, False, False, False, False, False, False, False, False,\n",
      "        False, False, False, False, False, False, False,  True, False,  True,\n",
      "         True,  True,  True, False, False, False, False, False, False, False,\n",
      "        False,  True, False, False, False, False, False, False, False, False,\n",
      "        False, False, False, False, False, False, False, False, False, False,\n",
      "        False, False, False, False, False, False, False, False, False,  True,\n",
      "        False, False,  True, False, False, False, False, False, False, False,\n",
      "        False, False, False, False, False, False, False, False, False, False,\n",
      "        False, False, False, False, False,  True, False, False, False,  True,\n",
      "        False, False, False, False, False, False, False, False, False, False,\n",
      "        False, False, False, False, False, False,  True, False, False, False,\n",
      "        False, False, False, False, False, False, False, False, False,  True,\n",
      "        False, False,  True,  True, False,  True, False, False, False, False,\n",
      "        False, False, False, False, False, False, False, False, False, False,\n",
      "         True,  True, False, False, False, False, False,  True, False, False,\n",
      "        False, False, False, False,  True,  True, False, False,  True, False,\n",
      "        False, False, False,  True, False, False,  True, False, False, False,\n",
      "        False, False, False,  True, False, False, False, False, False, False,\n",
      "        False, False, False,  True, False, False, False, False, False, False,\n",
      "        False, False, False, False, False, False, False, False,  True, False,\n",
      "        False, False, False, False,  True, False, False, False, False, False,\n",
      "        False, False, False, False,  True, False,  True, False, False, False,\n",
      "        False, False, False, False, False, False, False, False, False, False,\n",
      "         True, False, False, False, False, False,  True,  True, False, False,\n",
      "         True, False, False, False, False, False, False, False, False, False,\n",
      "        False, False, False, False, False, False, False, False, False, False,\n",
      "        False, False, False, False, False,  True, False, False, False, False,\n",
      "        False, False, False, False, False, False, False,  True,  True,  True,\n",
      "        False, False, False, False, False, False, False, False, False, False,\n",
      "        False,  True,  True, False, False, False, False, False, False, False,\n",
      "        False, False, False, False, False, False, False, False, False, False,\n",
      "        False,  True, False, False,  True, False, False, False, False, False,\n",
      "        False, False, False, False, False,  True, False, False, False, False,\n",
      "        False, False, False, False, False, False, False,  True, False, False,\n",
      "        False, False, False, False,  True, False, False, False, False, False,\n",
      "        False, False, False, False, False,  True, False, False, False, False,\n",
      "        False, False, False, False, False, False, False,  True, False, False,\n",
      "         True, False, False,  True, False,  True, False, False, False, False,\n",
      "        False, False, False, False, False, False, False,  True, False, False,\n",
      "        False, False, False, False, False,  True, False, False, False, False,\n",
      "         True, False,  True, False, False, False, False, False, False, False,\n",
      "        False, False, False, False, False, False, False, False, False, False,\n",
      "         True, False, False, False, False,  True, False, False,  True, False,\n",
      "        False, False, False,  True, False, False, False,  True, False, False,\n",
      "        False, False, False, False, False, False, False,  True, False, False,\n",
      "        False,  True, False, False,  True, False, False, False, False, False,\n",
      "        False, False, False, False, False, False, False,  True, False, False,\n",
      "        False, False,  True,  True, False, False, False, False, False, False,\n",
      "        False, False, False, False, False, False, False, False, False,  True,\n",
      "        False, False,  True,  True, False, False, False, False, False, False,\n",
      "        False, False, False, False, False, False,  True, False, False, False,\n",
      "        False, False, False, False, False, False, False, False,  True, False,\n",
      "        False, False,  True, False, False, False,  True, False, False, False,\n",
      "        False, False, False, False, False,  True, False, False, False, False,\n",
      "        False, False, False, False, False, False, False,  True, False, False,\n",
      "        False, False, False,  True, False, False, False, False,  True, False,\n",
      "        False, False, False, False, False, False, False, False, False,  True,\n",
      "        False,  True, False, False, False, False, False, False, False, False,\n",
      "        False, False, False, False, False, False, False, False, False, False,\n",
      "         True, False, False, False, False, False, False,  True, False, False,\n",
      "        False, False,  True, False, False, False, False, False, False, False,\n",
      "         True, False, False, False, False, False, False, False,  True,  True,\n",
      "        False, False, False, False, False, False, False, False, False, False,\n",
      "        False, False, False, False,  True, False, False, False, False, False,\n",
      "        False, False, False,  True, False, False,  True, False,  True, False,\n",
      "        False, False,  True, False, False, False, False, False, False, False,\n",
      "        False,  True, False, False, False,  True, False, False,  True,  True,\n",
      "        False, False, False, False, False, False, False,  True, False,  True,\n",
      "        False, False, False,  True, False,  True, False, False, False, False,\n",
      "        False, False, False, False, False, False, False, False, False, False,\n",
      "        False, False, False, False, False, False, False, False, False, False,\n",
      "        False, False, False, False, False, False, False, False, False, False,\n",
      "        False, False,  True,  True, False, False, False, False,  True, False],\n",
      "       device='cuda:0')\n",
      "torch.Size([1000])\n",
      "(153,)\n",
      "Outlier Percentage = 15.299999999999999%\n"
     ]
    }
   ],
   "source": [
    "outlier_indices = softmax_logits_frogs_max < threshold\n",
    "print(outlier_indices)\n",
    "print(outlier_indices.shape)\n",
    "\n",
    "print(np.where(outlier_indices.cpu() == True)[0].shape)\n",
    "\n",
    "print(f'Outlier Percentage = {np.where(outlier_indices.cpu() == True)[0].shape[0] / softmax_logits_frogs_max.size(0) * 100}%')"
   ]
  },
  {
   "cell_type": "code",
   "execution_count": null,
   "id": "77c5decd",
   "metadata": {},
   "outputs": [],
   "source": []
  }
 ],
 "metadata": {
  "kernelspec": {
   "display_name": "Python 3 (ipykernel)",
   "language": "python",
   "name": "python3"
  },
  "language_info": {
   "codemirror_mode": {
    "name": "ipython",
    "version": 3
   },
   "file_extension": ".py",
   "mimetype": "text/x-python",
   "name": "python",
   "nbconvert_exporter": "python",
   "pygments_lexer": "ipython3",
   "version": "3.10.11"
  }
 },
 "nbformat": 4,
 "nbformat_minor": 5
}
